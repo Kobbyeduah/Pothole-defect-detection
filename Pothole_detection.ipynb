{
  "cells": [
    {
      "cell_type": "markdown",
      "metadata": {
        "id": "zsF4Rc_CdOFK"
      },
      "source": [
        "#**Import the Required Libraries**"
      ]
    },
    {
      "cell_type": "code",
      "execution_count": 2,
      "metadata": {
        "id": "UHtV5bMEdPhs"
      },
      "outputs": [],
      "source": [
        "from IPython.display import Image"
      ]
    },
    {
      "cell_type": "markdown",
      "metadata": {
        "id": "1wolLJ2xdgp8"
      },
      "source": [
        "#**Clone the Github Repo**"
      ]
    },
    {
      "cell_type": "markdown",
      "metadata": {
        "id": "1i9cuj-JeXMi"
      },
      "source": [
        "##Install all the Dependencies"
      ]
    },
    {
      "cell_type": "code",
      "execution_count": 5,
      "metadata": {
        "colab": {
          "base_uri": "https://localhost:8080/"
        },
        "id": "EsmZlZFfeduY",
        "outputId": "a3ab1418-eb58-4980-b063-d97dcd0d5171"
      },
      "outputs": [
        {
          "name": "stdout",
          "output_type": "stream",
          "text": [
            "[WinError 3] The system cannot find the path specified: '/content/Pothole-defect-detection/YOLOv8_Road_defect/ultralytics/yolo/v8/segment'\n",
            "c:\\Users\\kobby\\Downloads\\YOLOv8_Segmentation_DeepSORT_Object_Tracking-main\\Pothole-defect-detection\n"
          ]
        }
      ],
      "source": [
        "%cd /content/Pothole-defect-detection/YOLOv8_Road_defect/ultralytics/yolo/v8/segment"
      ]
    },
    {
      "cell_type": "code",
      "execution_count": 7,
      "metadata": {
        "colab": {
          "base_uri": "https://localhost:8080/"
        },
        "id": "l40AqBzHfl6p",
        "outputId": "2682e77d-9f21-45c9-82c8-ea39342ccc0d"
      },
      "outputs": [
        {
          "data": {
            "text/plain": [
              "'c:\\\\Users\\\\kobby\\\\Downloads\\\\YOLOv8_Segmentation_DeepSORT_Object_Tracking-main\\\\Pothole-defect-detection'"
            ]
          },
          "execution_count": 7,
          "metadata": {},
          "output_type": "execute_result"
        }
      ],
      "source": [
        "%pwd"
      ]
    },
    {
      "cell_type": "markdown",
      "metadata": {
        "id": "yWUt3uZMfy3N"
      },
      "source": [
        "##Importing the Dataset from the RoboFlow"
      ]
    },
    {
      "cell_type": "code",
      "execution_count": 8,
      "metadata": {
        "colab": {
          "base_uri": "https://localhost:8080/"
        },
        "id": "rNmCcA5OfvSV",
        "outputId": "79307a14-94d6-460c-ed30-e61ce331cac4"
      },
      "outputs": [
        {
          "name": "stdout",
          "output_type": "stream",
          "text": [
            "Requirement already satisfied: roboflow in c:\\users\\kobby\\anaconda3\\lib\\site-packages (1.1.36)Note: you may need to restart the kernel to use updated packages.\n",
            "\n",
            "Requirement already satisfied: certifi in c:\\users\\kobby\\anaconda3\\lib\\site-packages (from roboflow) (2023.11.17)\n",
            "Requirement already satisfied: chardet==4.0.0 in c:\\users\\kobby\\anaconda3\\lib\\site-packages (from roboflow) (4.0.0)\n",
            "Requirement already satisfied: idna==3.7 in c:\\users\\kobby\\anaconda3\\lib\\site-packages (from roboflow) (3.7)\n",
            "Requirement already satisfied: cycler in c:\\users\\kobby\\anaconda3\\lib\\site-packages (from roboflow) (0.12.1)\n",
            "Requirement already satisfied: kiwisolver>=1.3.1 in c:\\users\\kobby\\anaconda3\\lib\\site-packages (from roboflow) (1.4.5)\n",
            "Requirement already satisfied: matplotlib in c:\\users\\kobby\\anaconda3\\lib\\site-packages (from roboflow) (3.8.1)\n",
            "Requirement already satisfied: numpy>=1.18.5 in c:\\users\\kobby\\appdata\\roaming\\python\\python311\\site-packages (from roboflow) (1.26.1)\n",
            "Requirement already satisfied: opencv-python-headless==4.10.0.84 in c:\\users\\kobby\\anaconda3\\lib\\site-packages (from roboflow) (4.10.0.84)\n",
            "Requirement already satisfied: Pillow>=7.1.2 in c:\\users\\kobby\\anaconda3\\lib\\site-packages (from roboflow) (10.1.0)\n",
            "Requirement already satisfied: python-dateutil in c:\\users\\kobby\\appdata\\roaming\\python\\python311\\site-packages (from roboflow) (2.8.2)\n",
            "Requirement already satisfied: python-dotenv in c:\\users\\kobby\\anaconda3\\lib\\site-packages (from roboflow) (0.21.0)\n",
            "Requirement already satisfied: requests in c:\\users\\kobby\\anaconda3\\lib\\site-packages (from roboflow) (2.31.0)\n",
            "Requirement already satisfied: six in c:\\users\\kobby\\appdata\\roaming\\python\\python311\\site-packages (from roboflow) (1.16.0)\n",
            "Requirement already satisfied: urllib3>=1.26.6 in c:\\users\\kobby\\anaconda3\\lib\\site-packages (from roboflow) (1.26.18)\n",
            "Requirement already satisfied: tqdm>=4.41.0 in c:\\users\\kobby\\anaconda3\\lib\\site-packages (from roboflow) (4.66.4)\n",
            "Requirement already satisfied: PyYAML>=5.3.1 in c:\\users\\kobby\\anaconda3\\lib\\site-packages (from roboflow) (6.0.1)\n",
            "Requirement already satisfied: requests-toolbelt in c:\\users\\kobby\\anaconda3\\lib\\site-packages (from roboflow) (1.0.0)\n",
            "Requirement already satisfied: filetype in c:\\users\\kobby\\anaconda3\\lib\\site-packages (from roboflow) (1.2.0)\n",
            "Requirement already satisfied: colorama in c:\\users\\kobby\\anaconda3\\lib\\site-packages (from tqdm>=4.41.0->roboflow) (0.4.6)\n",
            "Requirement already satisfied: contourpy>=1.0.1 in c:\\users\\kobby\\anaconda3\\lib\\site-packages (from matplotlib->roboflow) (1.2.0)\n",
            "Requirement already satisfied: fonttools>=4.22.0 in c:\\users\\kobby\\anaconda3\\lib\\site-packages (from matplotlib->roboflow) (4.44.0)\n",
            "Requirement already satisfied: packaging>=20.0 in c:\\users\\kobby\\appdata\\roaming\\python\\python311\\site-packages (from matplotlib->roboflow) (23.2)\n",
            "Requirement already satisfied: pyparsing>=2.3.1 in c:\\users\\kobby\\anaconda3\\lib\\site-packages (from matplotlib->roboflow) (3.1.1)\n",
            "Requirement already satisfied: charset-normalizer<4,>=2 in c:\\users\\kobby\\anaconda3\\lib\\site-packages (from requests->roboflow) (3.3.2)\n",
            "loading Roboflow workspace...\n",
            "loading Roboflow project...\n"
          ]
        },
        {
          "name": "stderr",
          "output_type": "stream",
          "text": [
            "Downloading Dataset Version Zip in Road-Defect--1 to yolov5pytorch:: 100%|██████████| 12414/12414 [00:05<00:00, 2142.47it/s]"
          ]
        },
        {
          "name": "stdout",
          "output_type": "stream",
          "text": [
            "\n"
          ]
        },
        {
          "name": "stderr",
          "output_type": "stream",
          "text": [
            "\n",
            "Extracting Dataset Version Zip to Road-Defect--1 in yolov5pytorch:: 100%|██████████| 412/412 [00:01<00:00, 244.85it/s]\n"
          ]
        }
      ],
      "source": [
        "%pip install roboflow\n",
        "\n",
        "from roboflow import Roboflow\n",
        "rf = Roboflow(api_key=\"KrtwIHS9er9uOpzbK2kF\")\n",
        "project = rf.workspace(\"peter-kobena\").project(\"road-defect-nxmfw\")\n",
        "version = project.version(1)\n",
        "dataset = version.download(\"yolov5\")"
      ]
    },
    {
      "cell_type": "markdown",
      "metadata": {
        "id": "1sk4VMN6gYB6"
      },
      "source": [
        "#**Training the Custom Model**"
      ]
    },
    {
      "cell_type": "code",
      "execution_count": 9,
      "metadata": {
        "id": "FTWvczxngNe-"
      },
      "outputs": [],
      "source": [
        "HOME = \"/content/Pothole-defect-detection/YOLOv8_Road_defect/ultralytics/yolo/v8/segment\""
      ]
    },
    {
      "cell_type": "code",
      "execution_count": 10,
      "metadata": {
        "colab": {
          "base_uri": "https://localhost:8080/"
        },
        "id": "-_hD__E1gifQ",
        "outputId": "cb9f3f4f-8776-41dc-fb3f-47bee85f0ea1"
      },
      "outputs": [
        {
          "data": {
            "text/plain": [
              "{'c:\\\\Users\\\\kobby\\\\Downloads\\\\YOLOv8_Segmentation_DeepSORT_Object_Tracking-main\\\\Pothole-defect-detection\\\\Road-Defect--1'}"
            ]
          },
          "execution_count": 10,
          "metadata": {},
          "output_type": "execute_result"
        }
      ],
      "source": [
        "{dataset.location}"
      ]
    },
    {
      "cell_type": "code",
      "execution_count": 11,
      "metadata": {
        "colab": {
          "base_uri": "https://localhost:8080/"
        },
        "id": "gSux2vQLgnOv",
        "outputId": "2d8bbed3-e0c0-4f47-c863-2ba917a5b0b9"
      },
      "outputs": [
        {
          "name": "stdout",
          "output_type": "stream",
          "text": [
            "[WinError 3] The system cannot find the path specified: '/content/Pothole-defect-detection/YOLOv8_Road_defect/ultralytics/yolo/v8/segment'\n",
            "c:\\Users\\kobby\\Downloads\\YOLOv8_Segmentation_DeepSORT_Object_Tracking-main\\Pothole-defect-detection\n"
          ]
        }
      ],
      "source": [
        "%cd {HOME}\n"
      ]
    },
    {
      "cell_type": "code",
      "execution_count": 14,
      "metadata": {
        "colab": {
          "base_uri": "https://localhost:8080/"
        },
        "id": "LoTziuN1ztsT",
        "outputId": "8b0bd160-4c75-4edb-d0d0-e3bbf712d383"
      },
      "outputs": [
        {
          "name": "stderr",
          "output_type": "stream",
          "text": [
            "python: can't open file 'c:\\\\Users\\\\kobby\\\\Downloads\\\\YOLOv8_Segmentation_DeepSORT_Object_Tracking-main\\\\Pothole-defect-detection\\\\train.py': [Errno 2] No such file or directory\n"
          ]
        }
      ],
      "source": [
        "!python train.py model=yolov8l-seg.pt data={dataset.location}/data.yaml epochs=120 imgsz=640"
      ]
    },
    {
      "cell_type": "code",
      "execution_count": 43,
      "metadata": {
        "colab": {
          "base_uri": "https://localhost:8080/"
        },
        "id": "lUJZ_D6q4sCf",
        "outputId": "f3ce9129-7578-463a-bfae-fe3f4b294244"
      },
      "outputs": [
        {
          "name": "stdout",
          "output_type": "stream",
          "text": [
            "Downloading...\n",
            "From: https://drive.google.com/uc?id=1UxlnPPWf-AXbGtIgTn3PfptuEyOSUefg\n",
            "To: /content/Pothole-defect-detection/YOLOv8_Road_defect/ultralytics/yolo/v8/segment/koforidua road.mp4\n",
            "100% 91.8M/91.8M [00:00<00:00, 203MB/s]\n"
          ]
        }
      ],
      "source": [
        "\n",
        "!gdown \"https://drive.google.com/uc?id=1UxlnPPWf-AXbGtIgTn3PfptuEyOSUefg\"\n"
      ]
    },
    {
      "cell_type": "code",
      "execution_count": 44,
      "metadata": {
        "colab": {
          "base_uri": "https://localhost:8080/"
        },
        "id": "zjQCE5ItQkdw",
        "outputId": "604b90b9-b98d-4cb1-e390-ef770e879fd7"
      },
      "outputs": [
        {
          "name": "stdout",
          "output_type": "stream",
          "text": [
            "Traceback (most recent call last):\n",
            "  File \"/content/Pothole-defect-detection/YOLOv8_Road_defect/ultralytics/yolo/v8/segment/predict.py\", line 6, in <module>\n",
            "    from ultralytics.yolo.engine.predictor import BasePredictor\n",
            "  File \"/content/Pothole-defect-detection/YOLOv8_Road_defect/ultralytics/__init__.py\", line 5, in <module>\n",
            "    from ultralytics.hub import checks\n",
            "  File \"/content/Pothole-defect-detection/YOLOv8_Road_defect/ultralytics/hub/__init__.py\", line 10, in <module>\n",
            "    from ultralytics.hub.auth import Auth\n",
            "  File \"/content/Pothole-defect-detection/YOLOv8_Road_defect/ultralytics/hub/auth.py\", line 5, in <module>\n",
            "    from ultralytics.hub.utils import HUB_API_ROOT, request_with_credentials\n",
            "  File \"/content/Pothole-defect-detection/YOLOv8_Road_defect/ultralytics/hub/utils.py\", line 10, in <module>\n",
            "    from ultralytics.yolo.utils import DEFAULT_CONFIG_DICT, LOGGER, RANK, SETTINGS, TryExcept, colorstr, emojis\n",
            "  File \"/content/Pothole-defect-detection/YOLOv8_Road_defect/ultralytics/yolo/__init__.py\", line 3, in <module>\n",
            "    from . import v8\n",
            "  File \"/content/Pothole-defect-detection/YOLOv8_Road_defect/ultralytics/yolo/v8/__init__.py\", line 5, in <module>\n",
            "    from ultralytics.yolo.v8 import classify, detect, segment\n",
            "  File \"/content/Pothole-defect-detection/YOLOv8_Road_defect/ultralytics/yolo/v8/segment/__init__.py\", line 3, in <module>\n",
            "    from .predict import SegmentationPredictor, predict\n",
            "ImportError: cannot import name 'SegmentationPredictor' from 'ultralytics.yolo.v8.segment.predict' (/content/Pothole-defect-detection/YOLOv8_Road_defect/ultralytics/yolo/v8/segment/predict.py)\n"
          ]
        }
      ],
      "source": [
        "!python predict.py model='best.pt' source='koforidua road.mp4'\n"
      ]
    },
    {
      "cell_type": "code",
      "execution_count": null,
      "metadata": {
        "colab": {
          "base_uri": "https://localhost:8080/"
        },
        "id": "P77BT7598sDg",
        "outputId": "8c5bf5fb-4090-4411-bddd-3051afaab67d"
      },
      "outputs": [
        {
          "name": "stdout",
          "output_type": "stream",
          "text": [
            "loading Roboflow workspace...\n",
            "loading Roboflow project...\n",
            "Checking for video inference results for job 73742290-81b1-43cf-9f41-0a81f49a11e5 every 60s\n"
          ]
        }
      ],
      "source": [
        "\n",
        "from roboflow import Roboflow\n",
        "\n",
        "rf = Roboflow(api_key=\"KrtwIHS9er9uOpzbK2kF\")\n",
        "project = rf.workspace().project(\"road-defect-nxmfw\")\n",
        "model = project.version(\"1\").model\n",
        "\n",
        "job_id, signed_url, expire_time = model.predict_video(\n",
        "    \"/content/Pothole-defect-detection/YOLOv8_Road_defect/ultralytics/yolo/v8/segment/koforidua road.mp4\",\n",
        "    fps=5,\n",
        "    prediction_type=\"batch-video\",\n",
        ")\n",
        "\n",
        "results = model.poll_until_video_results(job_id)\n",
        "\n",
        "print(results)\n",
        "\n"
      ]
    },
    {
      "cell_type": "code",
      "execution_count": null,
      "metadata": {
        "id": "zer4yHMPhgpq"
      },
      "outputs": [],
      "source": [
        "!apt-get install ffmpeg\n"
      ]
    },
    {
      "cell_type": "code",
      "execution_count": null,
      "metadata": {
        "id": "XRVLtIm9gzC-"
      },
      "outputs": [],
      "source": [
        "import subprocess\n",
        "import os\n",
        "\n",
        "# Input video path (upload your video to Google Colab)\n",
        "save_path = '/content/Pothole-defect-detection/YOLOv8_Road_defect/ultralytics/yolo/v8/segment/koforidua road.mp4'\n",
        "\n",
        "# Compressed video path\n",
        "compressed_path = \"/content/koforidua_road_compressed.mp4\"\n",
        "\n",
        "# Check if the input video exists\n",
        "if not os.path.isfile(save_path):\n",
        "    raise FileNotFoundError(f\"Input video not found at {save_path}\")\n",
        "\n",
        "# Compress the video\n",
        "compress_command = f\"ffmpeg -i '{save_path}' -vcodec libx264 '{compressed_path}'\"\n",
        "process = subprocess.run(compress_command, shell=True, stdout=subprocess.PIPE, stderr=subprocess.PIPE)\n",
        "\n",
        "# Capture the stdout and stderr\n",
        "stdout = process.stdout.decode('utf-8')\n",
        "stderr = process.stderr.decode('utf-8')\n",
        "\n",
        "# Check if the compressed video was created\n",
        "if not os.path.isfile(compressed_path):\n",
        "    raise FileNotFoundError(f\"Compressed video not created at {compressed_path}\\nffmpeg stderr:\\n{stderr}\")\n",
        "\n",
        "\n"
      ]
    },
    {
      "cell_type": "code",
      "execution_count": null,
      "metadata": {
        "id": "lQ_Wa5j0kMS4"
      },
      "outputs": [],
      "source": [
        "# Show video\n",
        "mp4 = open(compressed_path,'rb').read()\n",
        "data_url = \"data:video/mp4;base64,\" + b64encode(mp4).decode()\n",
        "HTML(\"\"\"\n",
        "<video width=400 controls>\n",
        "      <source src=\"%s\" type=\"video/mp4\">\n",
        "</video>\n",
        "\"\"\" % data_url)"
      ]
    }
  ],
  "metadata": {
    "accelerator": "GPU",
    "colab": {
      "authorship_tag": "ABX9TyNmUOdZ5ZV4Q5bDmw4eFtTE",
      "gpuType": "T4",
      "include_colab_link": true,
      "provenance": []
    },
    "kernelspec": {
      "display_name": "Python 3",
      "name": "python3"
    },
    "language_info": {
      "codemirror_mode": {
        "name": "ipython",
        "version": 3
      },
      "file_extension": ".py",
      "mimetype": "text/x-python",
      "name": "python",
      "nbconvert_exporter": "python",
      "pygments_lexer": "ipython3",
      "version": "3.11.5"
    }
  },
  "nbformat": 4,
  "nbformat_minor": 0
}
